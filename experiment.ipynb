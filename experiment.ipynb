{
 "cells": [
  {
   "cell_type": "code",
   "execution_count": 7,
   "id": "285c7791",
   "metadata": {},
   "outputs": [],
   "source": [
    "from sklearn.model_selection import train_test_split\n",
    "from utils import change_format, prepare_data\n",
    "from model import LogReg\n",
    "from vaidya import vaidya, get_init_polytope"
   ]
  },
  {
   "cell_type": "markdown",
   "id": "149abb1b",
   "metadata": {},
   "source": [
    "**Скачать и подготовить датасет**"
   ]
  },
  {
   "cell_type": "code",
   "execution_count": null,
   "id": "5455d323",
   "metadata": {},
   "outputs": [],
   "source": [
    "!wget https://www.csie.ntu.edu.tw/~cjlin/libsvmtools/datasets/binary/covtype.libsvm.binary.scale.bz2\n",
    "!bunzip2 covtype.libsvm.binary.scale.bz2"
   ]
  },
  {
   "cell_type": "code",
   "execution_count": 3,
   "id": "c7f14431",
   "metadata": {},
   "outputs": [],
   "source": [
    "A, y, m, n = prepare_data(\"covtype.libsvm.binary.scale\")\n",
    "X, y = change_format(A, y, m)\n",
    "X_train, X_test, y_train, y_test = train_test_split(X, y, test_size=0.2, random_state=42)\n",
    "print(X_train.size())\n",
    "print(f\"Размерность пространство (количество фич) = {n}\")"
   ]
  },
  {
   "cell_type": "markdown",
   "id": "796b51a9",
   "metadata": {},
   "source": [
    "**В датасете уже добавлен константый признак (равный 1 для всех объектов), поэтому при создании модели можно указать bias=False**"
   ]
  },
  {
   "cell_type": "code",
   "execution_count": null,
   "id": "9cb95538",
   "metadata": {},
   "outputs": [],
   "source": [
    "# Некоторые начальные условия (можно не вникать)\n",
    "R = 20.\n",
    "A_0, b_0 = get_init_polytope(n, R)"
   ]
  },
  {
   "cell_type": "code",
   "execution_count": null,
   "id": "7625d679",
   "metadata": {},
   "outputs": [],
   "source": [
    "K = 1000  # Число итераций\n",
    "x_0 = np.random.randn(n, 1)  # Начальный вектор весов модели\n",
    "x_0 /= np.linalg.norm(x_0)\n",
    "\n",
    "# 1. Реализовать функцию oracle, в которую подаётся numpy array формы (n, 1) c весами модели,\n",
    "#    и которая возвращает градиент лог-лосса по отношению к весам модели. Этот градиент должен\n",
    "#    быть посчитан по случайному батчу, при чём размер батча должен быть большим (попробовать\n",
    "#    несколько сотен или тысяч)\n",
    "\n",
    "# 2. Реализовать функцию, в которую подаётся numpy array формы (n, 1) c весами модели, и которая\n",
    "#    возвращает значение лог-лосса на тестовой выборке при данных весах модели.\n",
    "\n",
    "# 3. Запустить метод Вайды (см. ниже), попробовав разные значения параметров алгоритма eps и eta.\n",
    "#    В теории должно быть eta <= 1e-4 и eps <= (1e-3 * eta), но на деле, возможно, придётся брать\n",
    "#    значения побольше (например, eta = 1e-2 и eps = 1e-4)\n",
    "\n",
    "# 3. Параметр newton_steps можно не менять. stepsize можно поварьировать от 0 до 1, но это не\n",
    "#    ключевой параметр. Можно попробовать менять параметр R, объявленный выше, но это тоже,\n",
    "#    скорее всего, не очень важно (он имет такой смысл: если, например, R = 20, то мы предполагаем,\n",
    "#    что норма оптимального вектора весов модели не превышает 20)\n",
    "\n",
    "# 3. Вайда возвращает последовательность векторов, каждый из которых является весами модели на\n",
    "#    данном шаге. Используя эту последовательность, построить график, на котором показано, как\n",
    "#    меняется значение лог-лосса на тестовой выборке от итерации к итерации.\n",
    "\n",
    "trajectory = vaidya(A_0, b_0, x_0, eps, eta, K, oracle, newton_steps=3, stepsize=0.18)"
   ]
  },
  {
   "cell_type": "code",
   "execution_count": null,
   "id": "5685106b",
   "metadata": {},
   "outputs": [],
   "source": []
  }
 ],
 "metadata": {
  "kernelspec": {
   "display_name": "Python 3",
   "language": "python",
   "name": "python3"
  },
  "language_info": {
   "codemirror_mode": {
    "name": "ipython",
    "version": 3
   },
   "file_extension": ".py",
   "mimetype": "text/x-python",
   "name": "python",
   "nbconvert_exporter": "python",
   "pygments_lexer": "ipython3",
   "version": "3.9.5"
  }
 },
 "nbformat": 4,
 "nbformat_minor": 5
}
