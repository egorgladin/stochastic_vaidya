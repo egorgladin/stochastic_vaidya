{
  "nbformat": 4,
  "nbformat_minor": 5,
  "metadata": {
    "kernelspec": {
      "display_name": "Python 3",
      "language": "python",
      "name": "python3"
    },
    "language_info": {
      "codemirror_mode": {
        "name": "ipython",
        "version": 3
      },
      "file_extension": ".py",
      "mimetype": "text/x-python",
      "name": "python",
      "nbconvert_exporter": "python",
      "pygments_lexer": "ipython3",
      "version": "3.9.5"
    },
    "colab": {
      "name": "experiment.ipynb",
      "provenance": [],
      "collapsed_sections": []
    }
  },
  "cells": [
    {
      "cell_type": "code",
      "metadata": {
        "id": "285c7791"
      },
      "source": [
        "import numpy as np\n",
        "import matplotlib.pyplot as plt\n",
        "from sklearn.model_selection import train_test_split\n",
        "from utils import change_format, prepare_data\n",
        "from model import LogReg\n",
        "from vaidya import vaidya, get_init_polytope"
      ],
      "id": "285c7791",
      "execution_count": null,
      "outputs": []
    },
    {
      "cell_type": "markdown",
      "metadata": {
        "id": "5f8ff660"
      },
      "source": [
        "**Скачать и подготовить датасет**"
      ],
      "id": "5f8ff660"
    },
    {
      "cell_type": "code",
      "metadata": {
        "id": "85d6db21"
      },
      "source": [
        "!wget https://www.csie.ntu.edu.tw/~cjlin/libsvmtools/datasets/binary/covtype.libsvm.binary.scale.bz2\n",
        "!bunzip2 covtype.libsvm.binary.scale.bz2"
      ],
      "id": "85d6db21",
      "execution_count": null,
      "outputs": []
    },
    {
      "cell_type": "code",
      "metadata": {
        "id": "9ae80497"
      },
      "source": [
        "A, y, m, n = prepare_data(\"covtype.libsvm.binary.scale\")\n",
        "X, y = change_format(A, y, m)\n",
        "X_train, X_test, y_train, y_test = train_test_split(X, y, test_size=0.2, random_state=42)\n",
        "print(X_train.size())\n",
        "print(f\"Размерность пространства (количество фич) = {n}\")"
      ],
      "id": "9ae80497",
      "execution_count": null,
      "outputs": []
    },
    {
      "cell_type": "markdown",
      "metadata": {
        "id": "85d6122a"
      },
      "source": [
        "**В датасете уже добавлен константый признак (равный 1 для всех объектов), поэтому при создании модели можно указать bias=False**"
      ],
      "id": "85d6122a"
    },
    {
      "cell_type": "code",
      "metadata": {
        "id": "e45c95dd"
      },
      "source": [
        "R = 30.\n",
        "A_0, b_0 = get_init_polytope(n, R)"
      ],
      "id": "e45c95dd",
      "execution_count": null,
      "outputs": []
    },
    {
      "cell_type": "code",
      "metadata": {
        "id": "200d4bb8"
      },
      "source": [
        "K = 1000\n",
        "np.random.seed(0)\n",
        "x_0 = np.random.randn(n, 1)\n",
        "x_0 /= np.linalg.norm(x_0)\n",
        "\n",
        "# 1. Реализовать функцию oracle, в которую подаётся numpy array формы (n, 1) c весами модели,\n",
        "#    и которая возвращает градиент лог-лосса по отношению к весам модели. Этот градиент должен\n",
        "#    быть посчитан по случайному батчу, при чём размер батча должен быть большим (попробовать\n",
        "#    несколько сотен или тысяч). Некоторые наработки есть в файле model.py, но можно сделать\n",
        "#    и по-своему.\n",
        "\n",
        "# 2. Реализовать функцию, в которую подаётся numpy array формы (n, 1) c весами модели, и которая\n",
        "#    возвращает значение лог-лосса на тестовой выборке при данных весах модели.\n",
        "\n",
        "# 3. Запустить метод Вайды, попробовав разные значения параметров алгоритма eps и eta.\n",
        "#    В теории должно быть eta <= 1e-4 и eps <= (1e-3 * eta), но на деле, скорее всего, придётся брать\n",
        "#    значения побольше (см. toy_example.py)\n",
        "\n",
        "# 4. Вайда возвращает последовательность векторов, каждый из которых является весами модели на\n",
        "#    очередном шаге. Используя эту последовательность, нужно построить график, на котором показано, как\n",
        "#    меняется значение лог-лосса на тестовой выборке от итерации к итерации.\n",
        "\n",
        "trajectory = vaidya(A_0, b_0, x_0, eps, eta, K, oracle, stepsize=0.18)"
      ],
      "id": "200d4bb8",
      "execution_count": null,
      "outputs": []
    },
    {
      "cell_type": "code",
      "metadata": {
        "id": "7cbabec9"
      },
      "source": [
        ""
      ],
      "id": "7cbabec9",
      "execution_count": null,
      "outputs": []
    }
  ]
}